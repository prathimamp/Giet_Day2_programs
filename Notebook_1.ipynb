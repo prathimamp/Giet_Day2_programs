{
  "nbformat": 4,
  "nbformat_minor": 0,
  "metadata": {
    "colab": {
      "provenance": [],
      "include_colab_link": true
    },
    "kernelspec": {
      "name": "python3",
      "display_name": "Python 3"
    },
    "language_info": {
      "name": "python"
    }
  },
  "cells": [
    {
      "cell_type": "markdown",
      "metadata": {
        "id": "view-in-github",
        "colab_type": "text"
      },
      "source": [
        "<a href=\"https://colab.research.google.com/github/prathimamp/Giet_Day2_programs/blob/main/Notebook_1.ipynb\" target=\"_parent\"><img src=\"https://colab.research.google.com/assets/colab-badge.svg\" alt=\"Open In Colab\"/></a>"
      ]
    },
    {
      "cell_type": "markdown",
      "source": [
        "# Explain the LLM at a high level: words ==> Tokens ==> Next Token ==> Next word"
      ],
      "metadata": {
        "id": "qemnWrtIuOg2"
      }
    },
    {
      "cell_type": "markdown",
      "source": [
        "# Load the GPT2 Model"
      ],
      "metadata": {
        "id": "g0ElTy9ex6xB"
      }
    },
    {
      "cell_type": "code",
      "source": [
        "from transformers import GPT2Tokenizer, GPT2LMHeadModel\n",
        "import torch\n",
        "\n",
        "# Step 1: Load the tokenizer and the model\n",
        "tokenizer = GPT2Tokenizer.from_pretrained(\"gpt2\")\n",
        "model = GPT2LMHeadModel.from_pretrained(\"gpt2\")"
      ],
      "metadata": {
        "id": "DxQXDf9QuTXX"
      },
      "execution_count": null,
      "outputs": []
    },
    {
      "cell_type": "code",
      "source": [
        "# Step 2: Define an input sentence\n",
        "input_text = \"The AI class by IIT Roorkee is a bit\"\n",
        "\n",
        "\n",
        "# Tokenize the input text\n",
        "input_tokens = tokenizer(input_text, return_tensors=\"pt\")  # Convert to PyTorch tensors"
      ],
      "metadata": {
        "id": "RW_Skv4CucQH"
      },
      "execution_count": null,
      "outputs": []
    },
    {
      "cell_type": "code",
      "source": [
        "print(f\"Tokenized Input IDs: {input_tokens['input_ids']}\")"
      ],
      "metadata": {
        "colab": {
          "base_uri": "https://localhost:8080/"
        },
        "id": "a3kYcff3u-0r",
        "outputId": "1a4d63fc-580e-4580-c940-03677aef29c1"
      },
      "execution_count": null,
      "outputs": [
        {
          "output_type": "stream",
          "name": "stdout",
          "text": [
            "Tokenized Input IDs: tensor([[  464,  9552,  1398,   416,   314,  2043,   371,  2675, 11035,   318,\n",
            "           257,  1643]])\n"
          ]
        }
      ]
    },
    {
      "cell_type": "code",
      "source": [
        "# Decode tokens to see the mapping\n",
        "decoded_tokens = [tokenizer.decode(token_id) for token_id in input_tokens['input_ids'][0]]\n",
        "print(f\"Decoded Tokens: {decoded_tokens}\")"
      ],
      "metadata": {
        "colab": {
          "base_uri": "https://localhost:8080/"
        },
        "id": "QNzjaDI7vGon",
        "outputId": "e3b4bb32-fd55-4539-d368-ea7004e6be78"
      },
      "execution_count": null,
      "outputs": [
        {
          "output_type": "stream",
          "name": "stdout",
          "text": [
            "Decoded Tokens: ['The', ' AI', ' class', ' by', ' I', 'IT', ' R', 'oor', 'kee', ' is', ' a', ' bit']\n"
          ]
        }
      ]
    },
    {
      "cell_type": "markdown",
      "source": [
        "# Another Sentence"
      ],
      "metadata": {
        "id": "w9ztzdeuvSLL"
      }
    },
    {
      "cell_type": "code",
      "source": [
        "# Step 2: Define an input sentence\n",
        "input_text = \"The AI class of my college is a bit\"\n",
        "\n",
        "# Tokenize the input text\n",
        "input_tokens = tokenizer(input_text, return_tensors=\"pt\")  # Convert to PyTorch tensors\n",
        "\n",
        "print(f\"Tokenized Input IDs: {input_tokens['input_ids']}\")\n",
        "\n",
        "\n",
        "# Decode tokens to see the mapping\n",
        "decoded_tokens = [tokenizer.decode(token_id) for token_id in input_tokens['input_ids'][0]]\n",
        "print(f\"Decoded Tokens: {decoded_tokens}\")"
      ],
      "metadata": {
        "colab": {
          "base_uri": "https://localhost:8080/"
        },
        "id": "fp5yBv26vSXL",
        "outputId": "458da7eb-3717-4738-8c5f-ad30f6119ea7"
      },
      "execution_count": null,
      "outputs": [
        {
          "output_type": "stream",
          "name": "stdout",
          "text": [
            "Tokenized Input IDs: tensor([[ 464, 9552, 1398,  286,  616, 4152,  318,  257, 1643]])\n",
            "Decoded Tokens: ['The', ' AI', ' class', ' of', ' my', ' college', ' is', ' a', ' bit']\n"
          ]
        }
      ]
    },
    {
      "cell_type": "markdown",
      "source": [
        "# Predict the next token\n",
        "- GPT-2 doesn't just predict the next token. For every token in the input, it generates logits predicting the next token relative to the context up to that position."
      ],
      "metadata": {
        "id": "5g5DEUDxvnzy"
      }
    },
    {
      "cell_type": "code",
      "source": [
        "# Step 3: Predict the next token\n",
        "with torch.no_grad():\n",
        "    outputs = model(**input_tokens)\n",
        "    logits = outputs.logits  # Raw predictions from the model\n",
        "\n",
        "print('input_tokens:', input_tokens['input_ids'].shape)\n",
        "print('logits:', logits.shape)"
      ],
      "metadata": {
        "colab": {
          "base_uri": "https://localhost:8080/"
        },
        "id": "CDqjwAJsvpIv",
        "outputId": "19f49e78-f6c9-4816-a9b5-fc4fa87224ad"
      },
      "execution_count": null,
      "outputs": [
        {
          "output_type": "stream",
          "name": "stdout",
          "text": [
            "input_tokens: torch.Size([1, 9])\n",
            "logits: torch.Size([1, 9, 50257])\n"
          ]
        }
      ]
    },
    {
      "cell_type": "code",
      "source": [
        "# Get the probabilities for the next token\n",
        "next_token_logits = logits[:, -1, :]  # Focus on the last token's logits\n",
        "next_token_logits.shape"
      ],
      "metadata": {
        "colab": {
          "base_uri": "https://localhost:8080/"
        },
        "id": "TlRWbiFWvqpy",
        "outputId": "42b2148c-eb87-4645-f36f-0bab597ff352"
      },
      "execution_count": null,
      "outputs": [
        {
          "output_type": "execute_result",
          "data": {
            "text/plain": [
              "torch.Size([1, 50257])"
            ]
          },
          "metadata": {},
          "execution_count": 8
        }
      ]
    },
    {
      "cell_type": "code",
      "source": [
        "probabilities = torch.softmax(next_token_logits, dim=-1)\n",
        "\n",
        "# Get the top 5 most likely tokens\n",
        "top_k = 5\n",
        "top_k_probs, top_k_indices = torch.topk(probabilities, top_k, dim=-1)\n",
        "\n",
        "# Decode the top tokens\n",
        "top_tokens = [tokenizer.decode(idx.item()).strip() for idx in top_k_indices[0]]\n",
        "top_probs = [prob.item() for prob in top_k_probs[0]]\n",
        "\n",
        "print(\"\\nTop Predictions:\")\n",
        "for i in range(top_k):\n",
        "    print(f\"{i + 1}: Token: '{top_tokens[i]}', Probability: {top_probs[i]:.4f}\")"
      ],
      "metadata": {
        "colab": {
          "base_uri": "https://localhost:8080/"
        },
        "id": "rCEuGMouvrr0",
        "outputId": "3542b0f2-9e09-4ad1-c752-ca6c481759d5"
      },
      "execution_count": null,
      "outputs": [
        {
          "output_type": "stream",
          "name": "stdout",
          "text": [
            "\n",
            "Top Predictions:\n",
            "1: Token: 'different', Probability: 0.1789\n",
            "2: Token: 'of', Probability: 0.1364\n",
            "3: Token: 'more', Probability: 0.0910\n",
            "4: Token: 'like', Probability: 0.0523\n",
            "5: Token: 'weird', Probability: 0.0147\n"
          ]
        }
      ]
    },
    {
      "cell_type": "code",
      "source": [
        "# Step 4: Generate the next word and map back to sentence\n",
        "next_token_id = top_k_indices[0][0].item()  # Choose the most likely token\n",
        "generated_text = tokenizer.decode(input_tokens[\"input_ids\"][0].tolist() + [next_token_id])\n",
        "print(f\"\\nGenerated Text: {generated_text}\")"
      ],
      "metadata": {
        "colab": {
          "base_uri": "https://localhost:8080/"
        },
        "id": "QJsy7RtCv692",
        "outputId": "18dbc559-d865-4dea-a500-143138ad90ac"
      },
      "execution_count": null,
      "outputs": [
        {
          "output_type": "stream",
          "name": "stdout",
          "text": [
            "\n",
            "Generated Text: The AI class by IIT Roorkee is a bit different\n"
          ]
        }
      ]
    },
    {
      "cell_type": "markdown",
      "source": [
        "# Another Example"
      ],
      "metadata": {
        "id": "uD4jpVHsaEI8"
      }
    },
    {
      "cell_type": "code",
      "source": [
        "# Step 2: Define an input sentence\n",
        "input_text = \"I saw a cat on a\"\n",
        "\n",
        "# Tokenize the input text\n",
        "input_tokens = tokenizer(input_text, return_tensors=\"pt\")  # Convert to PyTorch tensors\n",
        "\n",
        "print(f\"Tokenized Input IDs: {input_tokens['input_ids']}\")\n",
        "\n",
        "\n",
        "# Decode tokens to see the mapping\n",
        "decoded_tokens = [tokenizer.decode(token_id) for token_id in input_tokens['input_ids'][0]]\n",
        "print(f\"Decoded Tokens: {decoded_tokens}\")\n",
        "\n",
        "# Step 3: Predict the next token\n",
        "with torch.no_grad():\n",
        "    outputs = model(**input_tokens)\n",
        "    logits = outputs.logits  # Raw predictions from the model\n",
        "\n",
        "print('input_tokens:', input_tokens['input_ids'].shape)\n",
        "print('logits:', logits.shape)\n",
        "\n",
        "# Get the probabilities for the next token\n",
        "next_token_logits = logits[:, -1, :]  # Focus on the last token's logits\n",
        "next_token_logits.shape\n",
        "\n",
        "probabilities = torch.softmax(next_token_logits, dim=-1)\n",
        "\n",
        "# Get the top 5 most likely tokens\n",
        "top_k = 5\n",
        "top_k_probs, top_k_indices = torch.topk(probabilities, top_k, dim=-1)\n",
        "\n",
        "# Decode the top tokens\n",
        "top_tokens = [tokenizer.decode(idx.item()).strip() for idx in top_k_indices[0]]\n",
        "top_probs = [prob.item() for prob in top_k_probs[0]]\n",
        "\n",
        "print(\"\\nTop Predictions:\")\n",
        "for i in range(top_k):\n",
        "    print(f\"{i + 1}: Token: '{top_tokens[i]}', Probability: {top_probs[i]:.4f}\")"
      ],
      "metadata": {
        "colab": {
          "base_uri": "https://localhost:8080/"
        },
        "id": "XH0t1T_-aDjv",
        "outputId": "e4992933-ec0f-41f6-ede6-ca57769aa3d1"
      },
      "execution_count": null,
      "outputs": [
        {
          "output_type": "stream",
          "name": "stdout",
          "text": [
            "Tokenized Input IDs: tensor([[  40, 2497,  257, 3797,  319,  257]])\n",
            "Decoded Tokens: ['I', ' saw', ' a', ' cat', ' on', ' a']\n",
            "input_tokens: torch.Size([1, 6])\n",
            "logits: torch.Size([1, 6, 50257])\n",
            "\n",
            "Top Predictions:\n",
            "1: Token: 'leash', Probability: 0.0812\n",
            "2: Token: 'street', Probability: 0.0452\n",
            "3: Token: 'beach', Probability: 0.0287\n",
            "4: Token: 'tree', Probability: 0.0236\n",
            "5: Token: 'porch', Probability: 0.0202\n"
          ]
        }
      ]
    },
    {
      "cell_type": "code",
      "source": [],
      "metadata": {
        "id": "jIOFMbyJajUB"
      },
      "execution_count": null,
      "outputs": []
    }
  ]
}